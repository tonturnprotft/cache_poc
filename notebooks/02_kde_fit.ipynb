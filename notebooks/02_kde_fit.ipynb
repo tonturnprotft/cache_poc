{
 "cells": [
  {
   "cell_type": "code",
   "execution_count": 2,
   "id": "da929ad1",
   "metadata": {},
   "outputs": [
    {
     "name": "stderr",
     "output_type": "stream",
     "text": [
      "/var/folders/_y/5xqwn5xx5_s9dsm9q1ymghdr0000gn/T/ipykernel_12364/1735183563.py:10: FutureWarning: Series.view is deprecated and will be removed in a future version. Use ``astype`` as an alternative to change the dtype.\n",
      "  ts_sec = (df.ts.view(\"int64\") // 1_000_000_000)\n"
     ]
    },
    {
     "name": "stdout",
     "output_type": "stream",
     "text": [
      "KDE hit: 0.517413931144916\n"
     ]
    }
   ],
   "source": [
    "# notebooks/02_kde_fit.ipynb or small script\n",
    "import pandas as pd\n",
    "from statsmodels.nonparametric.kde import KDEUnivariate\n",
    "from pathlib import Path\n",
    "import sys\n",
    "root = Path.cwd().parent\n",
    "sys.path.insert(0, str(root))\n",
    "DATA = Path.cwd().parent / \"data\" / \"trace.parquet\"\n",
    "df = pd.read_parquet(DATA)\n",
    "ts_sec = (df.ts.view(\"int64\") // 1_000_000_000)\n",
    "kde = KDEUnivariate(ts_sec).fit(bw=\"silverman\")\n",
    "\n",
    "# quick test\n",
    "from src.simulator import CacheSim\n",
    "from src.policies.kde_cache import KDECache\n",
    "sim = CacheSim(500*1024*1024, lambda cap: KDECache(cap, kde))\n",
    "print(\"KDE hit:\", sim.replay(df))"
   ]
  }
 ],
 "metadata": {
  "kernelspec": {
   "display_name": ".venv",
   "language": "python",
   "name": "python3"
  },
  "language_info": {
   "codemirror_mode": {
    "name": "ipython",
    "version": 3
   },
   "file_extension": ".py",
   "mimetype": "text/x-python",
   "name": "python",
   "nbconvert_exporter": "python",
   "pygments_lexer": "ipython3",
   "version": "3.12.5"
  }
 },
 "nbformat": 4,
 "nbformat_minor": 5
}
