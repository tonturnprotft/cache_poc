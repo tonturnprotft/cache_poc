{
 "cells": [
  {
   "cell_type": "code",
   "execution_count": 2,
   "id": "366d98f1",
   "metadata": {},
   "outputs": [
    {
     "name": "stdout",
     "output_type": "stream",
     "text": [
      "Wrote ../data/trace_chunks.parquet rows: 699813\n"
     ]
    }
   ],
   "source": [
    "import pandas as pd, numpy as np,pathlib\n",
    "\n",
    "TRACE = pathlib.Path(\"../data/trace.parquet\")\n",
    "OUT   = pathlib.Path(\"../data/trace_chunks.parquet\")\n",
    "\n",
    "CHUNK_BYTES = 4_000_000   # 4 MB segments\n",
    "\n",
    "df = pd.read_parquet(TRACE).sort_values(\"ts\").reset_index(drop=True)\n",
    "\n",
    "# Ensure vid_idx exists (needed by LSTM policy)\n",
    "if \"vid_idx\" not in df.columns:\n",
    "    cats = df.video.astype(\"category\")\n",
    "    df[\"vid_idx\"] = cats.cat.codes\n",
    "\n",
    "# How many chunks per row\n",
    "df[\"n_chunks\"] = np.maximum(1, (df[\"bytes\"] // CHUNK_BYTES).astype(int))\n",
    "\n",
    "# Repeat rows\n",
    "df_rep = df.loc[df.index.repeat(df[\"n_chunks\"])].copy()\n",
    "df_rep[\"chunk_id\"] = df_rep.groupby(level=0).cumcount()\n",
    "\n",
    "# Adjust last chunk size\n",
    "df_rep[\"chunk_bytes\"] = CHUNK_BYTES\n",
    "mask_last = df_rep[\"chunk_id\"] == (df_rep[\"n_chunks\"] - 1)\n",
    "df_rep.loc[mask_last, \"chunk_bytes\"] = (\n",
    "    df_rep.loc[mask_last, \"bytes\"] - CHUNK_BYTES*(df_rep.loc[mask_last, \"n_chunks\"] - 1)\n",
    ")\n",
    "\n",
    "# Build cache key\n",
    "df_rep[\"key\"] = df_rep.apply(lambda r: f\"{r.video}_{r.ladder}_{r.chunk_id}\", axis=1)\n",
    "\n",
    "# Keep final columns\n",
    "keep = df_rep[[\"ts\",\"user\",\"video\",\"ladder\",\"key\",\"chunk_bytes\",\"vid_idx\"]].rename(\n",
    "    columns={\"chunk_bytes\":\"bytes\"}\n",
    ")\n",
    "\n",
    "keep.to_parquet(OUT, compression=\"zstd\")\n",
    "print(\"Wrote\", OUT, \"rows:\", len(keep))"
   ]
  }
 ],
 "metadata": {
  "kernelspec": {
   "display_name": ".venv",
   "language": "python",
   "name": "python3"
  },
  "language_info": {
   "codemirror_mode": {
    "name": "ipython",
    "version": 3
   },
   "file_extension": ".py",
   "mimetype": "text/x-python",
   "name": "python",
   "nbconvert_exporter": "python",
   "pygments_lexer": "ipython3",
   "version": "3.12.5"
  }
 },
 "nbformat": 4,
 "nbformat_minor": 5
}
